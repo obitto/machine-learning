{
 "cells": [
  {
   "cell_type": "code",
   "execution_count": 22,
   "metadata": {
    "collapsed": false
   },
   "outputs": [],
   "source": [
    "import numpy as np\n",
    "f1 = np.ones((3,3))\n",
    "f2 = np.ones((3,3))\n",
    "f3 = np.ones((3,3))\n",
    "p1 = np.array([[0.249,0.002,0.311],\n",
    "[0.017,0.024,0.015],\n",
    "[0.029,0.348,0.000]])\n",
    "p2 = np.array([[0.136,0.118,0.309],\n",
    "[0.003,0.029,0.025],\n",
    "[0.348,0.014,0.015]]\n",
    ")\n",
    "p3 = np.array([[0.008,0.014,0.274],\n",
    "[0.351,0.024,0.000],\n",
    "[0.129,0.123,0.074]] \n",
    ")"
   ]
  },
  {
   "cell_type": "code",
   "execution_count": 38,
   "metadata": {
    "collapsed": false
   },
   "outputs": [
    {
     "name": "stdout",
     "output_type": "stream",
     "text": [
      "[[  1.88245222e+00   1.41713153e+00   9.71769142e+00]\n",
      " [  1.06569249e-02   9.95830429e-01   7.40064231e-01]\n",
      " [  7.20357460e+01   1.16585796e-01   1.33835735e-01]]\n",
      "[[  2.16249551e-02   1.62795132e-02   1.11633453e-01]\n",
      " [  1.22423040e-04   1.14397530e-02   8.50160000e-03]\n",
      " [  8.27521548e-01   1.33929700e-03   1.53745829e-03]]\n",
      "[[ 2.333688    2.02481753  5.30227641]\n",
      " [ 0.50317916  4.86406519  4.19315965]\n",
      " [ 8.89935311  0.35801995  0.38359281]]\n"
     ]
    }
   ],
   "source": [
    "p = f2*np.dot(f1,f3)\n",
    "print(p)\n",
    "p /= np.sum(p)\n",
    "print(p)\n",
    "f2 = f2 * p2/p\n",
    "print(f2)"
   ]
  },
  {
   "cell_type": "code",
   "execution_count": 36,
   "metadata": {
    "collapsed": false
   },
   "outputs": [
    {
     "name": "stdout",
     "output_type": "stream",
     "text": [
      "[[ 9.36181254  1.75812552  4.05630757]\n",
      " [ 0.53879644  0.44483476  0.56318569]\n",
      " [ 0.68695337  4.89929616  4.51140373]]\n",
      "[[ 0.34905155  0.06555103  0.15123786]\n",
      " [ 0.02008882  0.01658549  0.02099816]\n",
      " [ 0.02561279  0.18266836  0.16820594]]\n",
      "[[  0.02291925   0.21357407   1.8117157 ]\n",
      " [ 17.47240792   1.44704783   0.        ]\n",
      " [  5.03654615   0.67335142   0.4399369 ]]\n"
     ]
    }
   ],
   "source": [
    "p = f3*np.dot(f1,f2)\n",
    "print(p)\n",
    "p /= np.sum(p)\n",
    "print(p)\n",
    "f = f3 * p3/p\n",
    "print(f)"
   ]
  },
  {
   "cell_type": "code",
   "execution_count": 41,
   "metadata": {
    "collapsed": false
   },
   "outputs": [
    {
     "name": "stdout",
     "output_type": "stream",
     "text": [
      "[[ 1.]]\n"
     ]
    },
    {
     "ename": "ValueError",
     "evalue": "shapes (1,1) and (3,3) not aligned: 1 (dim 1) != 3 (dim 0)",
     "output_type": "error",
     "traceback": [
      "\u001b[1;31m---------------------------------------------------------------------------\u001b[0m",
      "\u001b[1;31mValueError\u001b[0m                                Traceback (most recent call last)",
      "\u001b[1;32m<ipython-input-41-b996c961474a>\u001b[0m in \u001b[0;36m<module>\u001b[1;34m()\u001b[0m\n\u001b[0;32m      1\u001b[0m \u001b[0ma\u001b[0m \u001b[1;33m=\u001b[0m \u001b[0mnp\u001b[0m\u001b[1;33m.\u001b[0m\u001b[0mones\u001b[0m\u001b[1;33m(\u001b[0m\u001b[1;33m(\u001b[0m\u001b[1;36m1\u001b[0m\u001b[1;33m,\u001b[0m\u001b[1;36m1\u001b[0m\u001b[1;33m)\u001b[0m\u001b[1;33m)\u001b[0m\u001b[1;33m\u001b[0m\u001b[0m\n\u001b[0;32m      2\u001b[0m \u001b[0mprint\u001b[0m\u001b[1;33m(\u001b[0m\u001b[0ma\u001b[0m\u001b[1;33m)\u001b[0m\u001b[1;33m\u001b[0m\u001b[0m\n\u001b[1;32m----> 3\u001b[1;33m \u001b[0mnp\u001b[0m\u001b[1;33m.\u001b[0m\u001b[0mdot\u001b[0m\u001b[1;33m(\u001b[0m\u001b[0ma\u001b[0m\u001b[1;33m,\u001b[0m\u001b[0mf1\u001b[0m\u001b[1;33m)\u001b[0m\u001b[1;33m\u001b[0m\u001b[0m\n\u001b[0m",
      "\u001b[1;31mValueError\u001b[0m: shapes (1,1) and (3,3) not aligned: 1 (dim 1) != 3 (dim 0)"
     ]
    }
   ],
   "source": [
    "a = np.ones((1,1))\n",
    "print(a)\n",
    "np.dot(a,f1)"
   ]
  },
  {
   "cell_type": "code",
   "execution_count": null,
   "metadata": {
    "collapsed": true
   },
   "outputs": [],
   "source": []
  }
 ],
 "metadata": {
  "kernelspec": {
   "display_name": "Python 3",
   "language": "python",
   "name": "python3"
  },
  "language_info": {
   "codemirror_mode": {
    "name": "ipython",
    "version": 3
   },
   "file_extension": ".py",
   "mimetype": "text/x-python",
   "name": "python",
   "nbconvert_exporter": "python",
   "pygments_lexer": "ipython3",
   "version": "3.5.1"
  }
 },
 "nbformat": 4,
 "nbformat_minor": 0
}
