{
 "cells": [
  {
   "cell_type": "code",
   "execution_count": 1,
   "metadata": {
    "collapsed": false
   },
   "outputs": [],
   "source": [
    "import pyGM as GM\n",
    "import numpy as np\n",
    "import networkx as nx\n",
    "import matplotlib.pyplot as plt\n",
    "D = np.genfromtxt('data/data.txt',delimiter=None)\n",
    "loc = np.genfromtxt('data/locations.txt',delimiter=None)\n",
    "m,n = D.shape"
   ]
  },
  {
   "cell_type": "code",
   "execution_count": 2,
   "metadata": {
    "collapsed": false
   },
   "outputs": [],
   "source": [
    "x = np.zeros((n,2))\n",
    "xy = np.zeros((n,n,2,2))\n",
    "for j in range(0,n):\n",
    "    for i in range(0,m):\n",
    "        x[j][int(D[i,j])] += 1\n",
    "x /= m\n",
    "for j in range(0,m):\n",
    "    for k in range(0,n):\n",
    "        for p in range(k+1,n):\n",
    "            xy[k][p][int(D[j,k])][int(D[j,p])]+=1\n",
    "xy /= m"
   ]
  },
  {
   "cell_type": "code",
   "execution_count": 3,
   "metadata": {
    "collapsed": false
   },
   "outputs": [],
   "source": [
    "E = np.zeros((n,n))\n",
    "for i in range(0,n):\n",
    "    for j in range(i+1,n):\n",
    "        joint = xy[i,j,:]\n",
    "        xx = x[i].reshape(2,1) *x[j]\n",
    "        #print(x[i],x[j])\n",
    "        #print(xx)\n",
    "        #print(np.log(joint/xx))\n",
    "        e = np.log(joint/xx)\n",
    "        E[i][j] = np.sum(joint * e)"
   ]
  },
  {
   "cell_type": "code",
   "execution_count": 4,
   "metadata": {
    "collapsed": true
   },
   "outputs": [],
   "source": [
    "def draw_graph(graph):\n",
    "\n",
    "    # extract nodes from graph\n",
    "    nodes = set([n1 for n1, n2 in graph] + [n2 for n1, n2 in graph])\n",
    "\n",
    "    # create networkx graph\n",
    "    G=nx.Graph()\n",
    "\n",
    "    # add nodes\n",
    "    for node in nodes:\n",
    "        G.add_node(node)\n",
    "\n",
    "    # add edges\n",
    "    for edge in graph:\n",
    "        G.add_edge(edge[0], edge[1])\n",
    "\n",
    "    # draw graph\n",
    "    pos = nx.shell_layout(G)\n",
    "    nx.draw(G, pos=dict(zip(G,loc)),with_labels = True)\n",
    "\n",
    "    # show graph\n",
    "    plt.show()"
   ]
  },
  {
   "cell_type": "code",
   "execution_count": 8,
   "metadata": {
    "collapsed": false
   },
   "outputs": [
    {
     "name": "stdout",
     "output_type": "stream",
     "text": [
      "[(0, 2), (1, 4), (2, 17), (2, 16), (3, 12), (3, 29), (3, 5), (4, 6), (5, 6), (7, 10), (7, 13), (8, 13), (9, 10), (10, 14), (11, 12), (11, 14), (13, 15), (17, 18), (17, 20), (18, 19), (20, 27), (21, 24), (21, 25), (21, 27), (22, 26), (22, 28), (22, 23), (27, 29), (28, 29)]\n"
     ]
    }
   ],
   "source": [
    "graph = -1 * E\n",
    "G = nx.Graph(graph)\n",
    "mst = nx.minimum_spanning_tree(G)\n",
    "edge = mst.edges()\n",
    "draw_graph(edge)\n",
    "print(edge)"
   ]
  },
  {
   "cell_type": "code",
   "execution_count": 16,
   "metadata": {
    "collapsed": false
   },
   "outputs": [
    {
     "name": "stdout",
     "output_type": "stream",
     "text": [
      "[[ 0.70253623  0.29746377]\n",
      " [ 0.62644928  0.37355072]\n",
      " [ 0.65217391  0.34782609]\n",
      " [ 0.57318841  0.42681159]\n",
      " [ 0.60036232  0.39963768]\n",
      " [ 0.56847826  0.43152174]\n",
      " [ 0.59528986  0.40471014]\n",
      " [ 0.46666667  0.53333333]\n",
      " [ 0.35        0.65      ]\n",
      " [ 0.42391304  0.57608696]\n",
      " [ 0.49275362  0.50724638]\n",
      " [ 0.4942029   0.5057971 ]\n",
      " [ 0.53442029  0.46557971]\n",
      " [ 0.36884058  0.63115942]\n",
      " [ 0.50072464  0.49927536]\n",
      " [ 0.43804348  0.56195652]\n",
      " [ 0.73442029  0.26557971]\n",
      " [ 0.69202899  0.30797101]\n",
      " [ 0.72391304  0.27608696]\n",
      " [ 0.75181159  0.24818841]\n",
      " [ 0.66231884  0.33768116]\n",
      " [ 0.68949275  0.31050725]\n",
      " [ 0.56268116  0.43731884]\n",
      " [ 0.52608696  0.47391304]\n",
      " [ 0.66884058  0.33115942]\n",
      " [ 0.72608696  0.27391304]\n",
      " [ 0.59021739  0.40978261]\n",
      " [ 0.64891304  0.35108696]\n",
      " [ 0.61449275  0.38550725]\n",
      " [ 0.60181159  0.39818841]]\n",
      "[[-0.3530583  -1.21246285]\n",
      " [-0.46768747 -0.98470147]\n",
      " [-0.42744401 -1.05605267]\n",
      " [-0.55654081 -0.85141259]\n",
      " [-0.51022194 -0.91719694]\n",
      " [-0.56479221 -0.84043739]\n",
      " [-0.51870684 -0.90458416]\n",
      " [-0.76214005 -0.62860866]\n",
      " [-1.04982212 -0.43078292]\n",
      " [-0.85822693 -0.55149666]\n",
      " [-0.70774598 -0.67875844]\n",
      " [-0.70480912 -0.68161968]\n",
      " [-0.62657269 -0.76447196]\n",
      " [-0.99739076 -0.4601968 ]\n",
      " [-0.69169895 -0.69459751]\n",
      " [-0.82543711 -0.5763308 ]\n",
      " [-0.30867381 -1.32584026]\n",
      " [-0.36812744 -1.17774961]\n",
      " [-0.323084   -1.2870394 ]\n",
      " [-0.28526953 -1.39356712]\n",
      " [-0.41200821 -1.08565314]\n",
      " [-0.37179909 -1.16954804]\n",
      " [-0.57504214 -0.82709274]\n",
      " [-0.64228876 -0.74673143]\n",
      " [-0.40220954 -1.10515539]\n",
      " [-0.3200855  -1.29494458]\n",
      " [-0.52726435 -0.89212848]\n",
      " [-0.43245656 -1.04672135]\n",
      " [-0.48695814 -0.95319529]\n",
      " [-0.50781085 -0.92083   ]]\n",
      "-19.6310594337\n",
      "-11.0986143278\n"
     ]
    }
   ],
   "source": [
    "print(x)\n",
    "print(np.log(x))\n",
    "l = np.sum(x * np.log(x))\n",
    "print(l)\n",
    "for i in edge:\n",
    "    ###print( E[i[0]][i[1]])\n",
    "    l += E[i[0]][i[1]]\n",
    "print(l)"
   ]
  },
  {
   "cell_type": "code",
   "execution_count": null,
   "metadata": {
    "collapsed": true
   },
   "outputs": [],
   "source": []
  }
 ],
 "metadata": {
  "kernelspec": {
   "display_name": "Python 3",
   "language": "python",
   "name": "python3"
  },
  "language_info": {
   "codemirror_mode": {
    "name": "ipython",
    "version": 3
   },
   "file_extension": ".py",
   "mimetype": "text/x-python",
   "name": "python",
   "nbconvert_exporter": "python",
   "pygments_lexer": "ipython3",
   "version": "3.5.1"
  }
 },
 "nbformat": 4,
 "nbformat_minor": 0
}
