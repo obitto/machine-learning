{
 "cells": [
  {
   "cell_type": "markdown",
   "metadata": {},
   "source": [
    "cs274 HW4\n",
    "Zeyu Su 55649049"
   ]
  },
  {
   "cell_type": "code",
   "execution_count": 2,
   "metadata": {
    "collapsed": false
   },
   "outputs": [],
   "source": [
    "%matplotlib inline\n",
    "\n",
    "import numpy as np\n",
    "import pyGM as gm\n",
    "import os\n",
    "from pyGM import wmb\n",
    "from math import exp\n",
    "import matplotlib.pyplot as plt\n",
    "datapath = 'data/';\n",
    "files = os.listdir(datapath)"
   ]
  },
  {
   "cell_type": "markdown",
   "metadata": {},
   "source": [
    "Build the factor graph, calculate the argmax of loos function and update accordingly."
   ]
  },
  {
   "cell_type": "code",
   "execution_count": 3,
   "metadata": {
    "collapsed": false
   },
   "outputs": [
    {
     "name": "stdout",
     "output_type": "stream",
     "text": [
      "0\n",
      "1\n",
      "2\n",
      "3\n",
      "4\n"
     ]
    }
   ],
   "source": [
    "feature_sizes = [1,2,2,201,201]\n",
    "ThetaF = [.001*np.random.rand(10,feature_sizes[f]) for f in range(0,len(feature_sizes))];\n",
    "ThetaP = .001*np.random.rand(10,10);\n",
    "Loss = 1.0 - np.eye(10); # hamming loss\n",
    "num_iter = 5;\n",
    "Lambda = 0.01;\n",
    "Alpha = 0.001;\n",
    "accuracy = [];\n",
    "hinge_loss = [];\n",
    "# step size, etc.\n",
    "for iter in range(num_iter):\n",
    "    print(iter)\n",
    "    cur_hamming = 0;\n",
    "    num_data = 0;\n",
    "    cur_hinge = 0;\n",
    "    for s in range(2500):\n",
    "        # Load data ys,xs\n",
    "        fh = open(datapath+files[s],'r');\n",
    "        rawlines = fh.readlines();\n",
    "        lines = [line.strip('\\n').split(',') for line in rawlines];\n",
    "        fh.close();\n",
    "        ys = [int(l[1])-1 for l in lines];\n",
    "        xs = [[int(l[2])-1,int(l[3]),int(l[4]),int(l[5])-1,int(l[6])-1] for l in lines];\n",
    "        n = len(ys);\n",
    "        # Define random variables for the inference process:\n",
    "        Y = [gm.Var(i,10) for i in range(n)];\n",
    "        #X = [gm.Var(i,feature_sizes[i]) for i in range(0,5)]\n",
    "        # Build \"prediction model\" using your parameters\n",
    "        factors = [gm.Factor([Y[i],Y[i+1]],np.exp(ThetaP)) for i in range(0,len(ys)-1)];\n",
    "        for j in range(n):\n",
    "            for i in range(0,5):\n",
    "                factor = gm.Factor([Y[j]],np.exp(ThetaF[i][:,xs[j][i]]));\n",
    "                factors.append(factor);\n",
    "        # don't forget pyGM expects models to be products of factors,\n",
    "        # so exponentiate the factors before making a model...\n",
    "        model_pred = gm.GraphModel(factors);\n",
    "        # Copy factors and add extra Hamming factors for loss-augmented model\n",
    "        factors_aug = [ f for f in factors ];\n",
    "        factors_aug.extend( [gm.Factor([Y[i]], Loss[:,ys[i]]).exp() for i in range(n)] );\n",
    "        model_aug = gm.GraphModel(factors_aug);\n",
    "        order = range(n); # eliminate in sequence (Markov chain on y)\n",
    "        wt = 1e-4; # for max elimination in JTree implementation\n",
    "        # Now, the most likely configuration of the prediction model (for prediction) is:\n",
    "        yhat_pred = wmb.JTree(model_pred,order,wt).argmax();\n",
    "        # and the maximizing argument of the loss (for computing the gradient) is\n",
    "        yhat_aug = wmb.JTree(model_aug,order,wt).argmax();\n",
    "        # use yhat_pred & ys to keep a running estimate of your prediction accuracy & print it\n",
    "        for i in range(n):\n",
    "            cur_hamming += (yhat_pred[Y[i]] != ys[i]); \n",
    "        num_data += n;\n",
    "        cur_hinge = cur_hamming;\n",
    "        for i in range(n):\n",
    "            for j in range(5):\n",
    "                cur_hinge += ThetaF[j][yhat_aug[Y[i]],xs[i][j]];\n",
    "                cur_hinge -= ThetaF[j][ys[i],xs[i][j]];\n",
    "        for i in range(n-1):\n",
    "            for j in range(5):\n",
    "                cur_hinge += ThetaP[yhat_aug[Y[i]]][yhat_aug[Y[i+1]]];\n",
    "                cur_hinge -= ThetaP[ys[i]][ys[i+1]];\n",
    "        for i in ThetaF:\n",
    "            cur_hinge += Lambda * np.sum(np.square(i));\n",
    "        cur_hinge += Lambda * np.sum(np.square(ThetaP));\n",
    "        ... # how often etc is up to you\n",
    "        # use yhat_aug & ys to update your parameters theta in the negative gradient direction\n",
    "        ThetaP *= (1-Lambda*2*Alpha);\n",
    "        for f in ThetaF:\n",
    "            f *= (1-Lambda*2*Alpha);\n",
    "        for i in range(n):\n",
    "            for j in range(5):\n",
    "                ThetaF[j][yhat_aug[Y[i]],xs[i][j]] -= Alpha;\n",
    "                ThetaF[j][ys[i],xs[i][j]] += Alpha;\n",
    "        for i in range(n-1):\n",
    "            ThetaP[yhat_aug[Y[i]]][yhat_aug[Y[i+1]]] -= Alpha;\n",
    "            ThetaP[ys[i]][ys[i+1]] += Alpha;\n",
    "    accuracy.append(1-cur_hamming/num_data);\n",
    "    hinge_loss.append(cur_hinge/len(files));"
   ]
  },
  {
   "cell_type": "code",
   "execution_count": 4,
   "metadata": {
    "collapsed": false,
    "scrolled": false
   },
   "outputs": [
    {
     "data": {
      "text/plain": [
       "[<matplotlib.lines.Line2D at 0x25a19764828>]"
      ]
     },
     "execution_count": 4,
     "metadata": {},
     "output_type": "execute_result"
    },
    {
     "data": {
      "image/png": "[encoded data removed]",
      "text/plain": [
       "<matplotlib.figure.Figure at 0x25a1966a8d0>"
      ]
     },
     "metadata": {},
     "output_type": "display_data"
    }
   ],
   "source": [
    "plt.plot(range(len(hinge_loss)),hinge_loss)"
   ]
  },
  {
   "cell_type": "code",
   "execution_count": 5,
   "metadata": {
    "collapsed": false,
    "scrolled": false
   },
   "outputs": [
    {
     "data": {
      "text/plain": [
       "[<matplotlib.lines.Line2D at 0x25a199207b8>]"
      ]
     },
     "execution_count": 5,
     "metadata": {},
     "output_type": "execute_result"
    },
    {
     "data": {
      "image/png": "[encoded data removed]",
      "text/plain": [
       "<matplotlib.figure.Figure at 0x25a1982e4a8>"
      ]
     },
     "metadata": {},
     "output_type": "display_data"
    }
   ],
   "source": [
    "plt.plot(range(len(accuracy)),accuracy)"
   ]
  },
  {
   "cell_type": "code",
   "execution_count": null,
   "metadata": {
    "collapsed": true
   },
   "outputs": [],
   "source": []
  }
 ],
 "metadata": {
  "kernelspec": {
   "display_name": "Python 3",
   "language": "python",
   "name": "python3"
  },
  "language_info": {
   "codemirror_mode": {
    "name": "ipython",
    "version": 3
   },
   "file_extension": ".py",
   "mimetype": "text/x-python",
   "name": "python",
   "nbconvert_exporter": "python",
   "pygments_lexer": "ipython3",
   "version": "3.5.1"
  }
 },
 "nbformat": 4,
 "nbformat_minor": 0
}
