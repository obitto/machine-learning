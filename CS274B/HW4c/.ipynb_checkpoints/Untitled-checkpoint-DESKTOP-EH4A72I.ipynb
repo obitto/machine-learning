{
 "cells": [
  {
   "cell_type": "code",
   "execution_count": 29,
   "metadata": {
    "collapsed": false
   },
   "outputs": [],
   "source": [
    "import numpy as np\n",
    "import pyGM as gm\n",
    "import os\n",
    "from pyGM import wmb\n",
    "\n",
    "datapath = 'data/';\n",
    "files = os.listdir(datapath)"
   ]
  },
  {
   "cell_type": "code",
   "execution_count": 34,
   "metadata": {
    "collapsed": false
   },
   "outputs": [
    {
     "name": "stdout",
     "output_type": "stream",
     "text": [
      "[[ 0.  1.  1.  1.  1.  1.  1.  1.  1.  1.]\n",
      " [ 1.  0.  1.  1.  1.  1.  1.  1.  1.  1.]\n",
      " [ 1.  1.  0.  1.  1.  1.  1.  1.  1.  1.]\n",
      " [ 1.  1.  1.  0.  1.  1.  1.  1.  1.  1.]\n",
      " [ 1.  1.  1.  1.  0.  1.  1.  1.  1.  1.]\n",
      " [ 1.  1.  1.  1.  1.  0.  1.  1.  1.  1.]\n",
      " [ 1.  1.  1.  1.  1.  1.  0.  1.  1.  1.]\n",
      " [ 1.  1.  1.  1.  1.  1.  1.  0.  1.  1.]\n",
      " [ 1.  1.  1.  1.  1.  1.  1.  1.  0.  1.]\n",
      " [ 1.  1.  1.  1.  1.  1.  1.  1.  1.  0.]]\n",
      "[[ 1.  1.  1.  1.  1.  1.  1.  1.  1.  1.]\n",
      " [ 1.  1.  1.  1.  1.  1.  1.  1.  1.  1.]\n",
      " [ 1.  1.  1.  1.  1.  1.  1.  1.  1.  1.]\n",
      " [ 1.  1.  1.  1.  1.  1.  1.  1.  1.  1.]\n",
      " [ 1.  1.  1.  1.  1.  1.  1.  1.  1.  1.]\n",
      " [ 1.  1.  1.  1.  1.  1.  1.  1.  1.  1.]\n",
      " [ 1.  1.  1.  1.  1.  1.  1.  1.  1.  1.]\n",
      " [ 1.  1.  1.  1.  1.  1.  1.  1.  1.  1.]\n",
      " [ 1.  1.  1.  1.  1.  1.  1.  1.  1.  1.]\n",
      " [ 1.  1.  1.  1.  1.  1.  1.  1.  1.  1.]]\n"
     ]
    }
   ],
   "source": [
    "feature_sizes = [1,2,2,201,201]\n",
    "ThetaF = [.001*np.random.rand(10,feature_sizes[f]) for f in range(len(feature_sizes))];\n",
    "ThetaP = .001*np.random.rand(10,10);\n",
    "Loss = 1.0 - np.eye(10); # hamming loss\n",
    "print(Loss)\n",
    "num_iter = 1\n",
    "# step size, etc.\n",
    "for iter in range(num_iter):\n",
    "    for s in range(1):\n",
    "        # Load data ys,xs\n",
    "        s = 0\n",
    "        fh = open(datapath+files[s],'r');\n",
    "        rawlines = fh.readlines();\n",
    "        lines = [line.strip('\\n').split(',') for line in rawlines];\n",
    "        fh.close();\n",
    "        ys = [int(l[1])-1 for l in lines];\n",
    "        xs = [[int(l[2])-1,int(l[3]),int(l[4]),int(l[5])-1,int(l[6])-1] for l in lines];\n",
    "        n = len(ys)\n",
    "        # Define random variables for the inference process:\n",
    "        Y = [gm.Var(i,10) for i in range(n)];\n",
    "        X = [gm.Var(i,feature_sizes[i]) for i in range(0,5)]\n",
    "        # Build \"prediction model\" using your parameters\n",
    "        factors = [gm.Factor([Y[i],Y[i+1]],1.0) for i in range(0,len(ys)-1)]\n",
    "        print(factors[1].table)\n",
    "        for i in range(len(factors)):\n",
    "            factors[i].table = ThetaP\n",
    "        for i in range(5):\n",
    "            factor = gm.Factor([Y[i],],1.0)\n",
    "        # don't forget pyGM expects models to be products of factors,\n",
    "        # so exponentiate the factors before making a model...\n",
    "        model_pred = gm.GraphModel(factors);\n",
    "        # Copy factors and add extra Hamming factors for loss-augmented model\n",
    "        factors_aug = [ f for f in factors ]\n",
    "        factors_aug.extend( [gm.Factor([Y[i]], Loss[:,ys[i]]).exp() for i in range(n)] );\n",
    "        model_aug = gm.GraphModel(factors_aug);\n",
    "        order = range(n); # eliminate in sequence (Markov chain on y)\n",
    "        wt = 1e-4; # for max elimination in JTree implementation\n",
    "        # Now, the most likely configuration of the prediction model (for prediction) is:\n",
    "        yhat_pred = wmb.JTree(model_pred,order,wt).argmax();\n",
    "        # and the maximizing argument of the loss (for computing the gradient) is\n",
    "        yhat_aug = wmb.JTree(model_aug,order,wt).argmax();\n",
    "        # use yhat_pred & ys to keep a running estimate of your prediction accuracy & print it\n",
    "        ... # how often etc is up to you\n",
    "        # use yhat_aug & ys to update your parameters theta in the negative gradient direction\n"
   ]
  },
  {
   "cell_type": "code",
   "execution_count": 26,
   "metadata": {
    "collapsed": false
   },
   "outputs": [],
   "source": []
  },
  {
   "cell_type": "code",
   "execution_count": null,
   "metadata": {
    "collapsed": true
   },
   "outputs": [],
   "source": []
  }
 ],
 "metadata": {
  "kernelspec": {
   "display_name": "Python 3",
   "language": "python",
   "name": "python3"
  },
  "language_info": {
   "codemirror_mode": {
    "name": "ipython",
    "version": 3
   },
   "file_extension": ".py",
   "mimetype": "text/x-python",
   "name": "python",
   "nbconvert_exporter": "python",
   "pygments_lexer": "ipython3",
   "version": "3.5.1"
  }
 },
 "nbformat": 4,
 "nbformat_minor": 0
}
